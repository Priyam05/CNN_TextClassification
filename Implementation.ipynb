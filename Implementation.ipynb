{
 "cells": [
  {
   "cell_type": "markdown",
   "metadata": {
    "colab_type": "text",
    "id": "I6sGKifyWQ6S"
   },
   "source": [
    "# Homework 2: Convolutional Neural Networks for Text Classification"
   ]
  },
  {
   "cell_type": "markdown",
   "metadata": {
    "colab_type": "text",
    "id": "Rw6pcjjzWdqI"
   },
   "source": [
    "In this homework, you will be implementing the _forward pass_ and _backpropagation_ for a convolutional neural network with sparse inputs for text classification. "
   ]
  },
  {
   "cell_type": "markdown",
   "metadata": {
    "colab_type": "text",
    "id": "Hiu0tLm9Wnah"
   },
   "source": [
    "## The setup\n",
    "Let's define parameters for the Convolutional Neural Network. You do not need to modify them."
   ]
  },
  {
   "cell_type": "code",
   "execution_count": 0,
   "metadata": {
    "colab": {},
    "colab_type": "code",
    "id": "284_yXERWZFb"
   },
   "outputs": [],
   "source": [
    "import sys\n",
    "import math\n",
    "import numpy as np\n",
    "from collections import defaultdict\n",
    "import time\n",
    "\n",
    "# window size for the CNN\n",
    "width = 2\n",
    "\n",
    "# number of filters\n",
    "F = 100\n",
    "\n",
    "# learning rate\n",
    "alpha = 1e-1\n",
    "\n",
    "# vocabsize: size of the total vocabulary\n",
    "vocabsize = 10000\n",
    "\n",
    "# vocab: the vocabulary dictionary with the word as key and its index as value\n",
    "# the input will be transformed into respective positional indices using the vocab dictionary\n",
    "# as the input for the forward and backward algorithm\n",
    "# e.g. if vocab = {'a': 0, 'simple': 1, 'sentence': 2} and the training data is\n",
    "# \"a simple simple sentence a\",\n",
    "# the input to the forward and backward algorithm will be [0,1,1,2,0]\n",
    "vocab = {}\n",
    "\n",
    "np.random.seed(1)\n",
    "\n",
    "# U and V are weight vectors of the hidden layer\n",
    "# U: a matrix of weights of all inputs for the first\n",
    "# hidden layer for all F filters in the\n",
    "# where each filter has the size of vocabsize by width (window size)\n",
    "# U[i, j, k] represents the weight of filter u_j\n",
    "# for word with vocab[word] = i when the word is\n",
    "# at the position k of the sliding window\n",
    "# e.g. for the example, \"a simple simple sentence a\",\n",
    "# if the window size is 4 and we are looking at the first sliding window\n",
    "# of the 9th filter, the weight for the last \"sentence\" will be U[2, 8, 3]\n",
    "# i.e U[index of the word in vocab, index of the filter, position of the word in that sliding window]\n",
    "U = np.random.normal(loc=0, scale=0.01, size=(vocabsize, F, width))\n",
    "# V: the the weight vector of the F filter outputs (after max pooling)\n",
    "# that will produce the output, i.e. o = sigmoid(V*h)\n",
    "V = np.random.normal(loc=0, scale=0.01, size=(F))"
   ]
  },
  {
   "cell_type": "markdown",
   "metadata": {
    "colab_type": "text",
    "id": "rw0w-FwHXfH_"
   },
   "source": [
    "Let's define some utility functions that may be useful. You don't need to modify them."
   ]
  },
  {
   "cell_type": "code",
   "execution_count": 0,
   "metadata": {
    "colab": {},
    "colab_type": "code",
    "id": "lHNxHBX7WrYs"
   },
   "outputs": [],
   "source": [
    "def sigmoid(x):\n",
    "    \"\"\"\n",
    "    helper function that computes the sigmoid function\n",
    "    \"\"\"\n",
    "    return 1. / (1 + math.exp(-x))\n",
    "\n",
    "\n",
    "def read_vocab(filename):\n",
    "    \"\"\"\n",
    "    helper function that builds up the vocab dictionary for input transformation\n",
    "    \"\"\"\n",
    "    file = open(filename)\n",
    "    for line in file:\n",
    "        cols = line.rstrip().split(\"\\t\")\n",
    "        word = cols[0]\n",
    "        idd = int(cols[1])\n",
    "        vocab[word] = idd\n",
    "    file.close()\n",
    "\n",
    "\n",
    "def read_data(filename):\n",
    "    \"\"\"\n",
    "    :param filename: the name of the file\n",
    "    :return: list of tuple ([word index list], label)\n",
    "    as input for the forward and backward function\n",
    "    \"\"\"\n",
    "    data = []\n",
    "    file = open(filename)\n",
    "    for line in file:\n",
    "        cols = line.rstrip().split(\"\\t\")\n",
    "        label = int(cols[0])\n",
    "        words = cols[1].split(\" \")\n",
    "        w_int = []\n",
    "        for w in words:\n",
    "            # skip the unknown words\n",
    "            if w in vocab:\n",
    "                w_int.append(vocab[w])\n",
    "        data.append((w_int, label))\n",
    "    file.close()\n",
    "    return data\n",
    "\n",
    "\n",
    "def train():\n",
    "    \"\"\"\n",
    "    main caller function that reads in the names of the files\n",
    "    and train the CNN to classify movie reviews\n",
    "    \"\"\"\n",
    "    vocabFile = \"vocab.txt\"\n",
    "    trainingFile = \"movie_reviews.train\"\n",
    "    testFile = \"movie_reviews.dev\"\n",
    "\n",
    "    read_vocab(vocabFile)\n",
    "    training_data = read_data(trainingFile)\n",
    "    test_data = read_data(testFile)\n",
    "\n",
    "    for i in range(50):\n",
    "        # confusion matrix showing the accuracy of the algorithm\n",
    "        confusion_training = np.zeros((2, 2))\n",
    "        confusion_validation = np.zeros((2, 2))\n",
    "\n",
    "        for (data, label) in training_data:\n",
    "            # back propagation to update weights for both U and V\n",
    "            backward(data, label)\n",
    "\n",
    "            # calculate forward and evaluate\n",
    "            prob = forward(data)[\"prob\"]\n",
    "            pred = 1 if prob > .5 else 0\n",
    "            confusion_training[pred, label] += 1\n",
    "\n",
    "        for (data, label) in test_data:\n",
    "            # calculate forward and evaluate\n",
    "            prob = forward(data)[\"prob\"]\n",
    "            pred = 1 if prob > .5 else 0\n",
    "            confusion_validation[pred, label] += 1\n",
    "\n",
    "        print(\"Epoch: {} \\tDev accuracy: {:.3f}\"\n",
    "            .format(\n",
    "            i,\n",
    "            np.sum(np.diag(confusion_validation)) / np.sum(confusion_validation)))"
   ]
  },
  {
   "cell_type": "markdown",
   "metadata": {
    "colab_type": "text",
    "id": "Ev6O33rf25Ko"
   },
   "source": [
    "And finally, we'll download the data. We'll be doing sentiment analysis on a dataset of movie reviews, so we'll need 3 files - a vocabulary file, a file with a training set of movie reviews, and a development set containing different reviews."
   ]
  },
  {
   "cell_type": "code",
   "execution_count": 0,
   "metadata": {
    "colab": {},
    "colab_type": "code",
    "id": "Z0Q7-x7-2_d1"
   },
   "outputs": [],
   "source": [
    "%%capture\n",
    "!wget https://raw.githubusercontent.com/dbamman/nlp20/master/HW_2/vocab.txt \n",
    "!wget https://raw.githubusercontent.com/dbamman/nlp20/master/HW_2/movie_reviews.dev\n",
    "!wget https://raw.githubusercontent.com/dbamman/nlp20/master/HW_2/movie_reviews.train"
   ]
  },
  {
   "cell_type": "markdown",
   "metadata": {
    "colab_type": "text",
    "id": "h5I1QY3NXnkX"
   },
   "source": [
    "## 1. Forward\n",
    "\n",
    "Given the parameters and definition of the CNN model (§2 of HW), complete the Forward Function to calculate _o_ (the probability of the positive class) for an input text. You may not import any additional libraries. "
   ]
  },
  {
   "cell_type": "code",
   "execution_count": 0,
   "metadata": {
    "colab": {},
    "colab_type": "code",
    "id": "WjNmuBe2KSzd"
   },
   "outputs": [],
   "source": [
    "def forward(word_indices):\n",
    "\n",
    "    \"\"\"\n",
    "    :param word_indices: a list of word indices, i.e. idx = vocab[word]\n",
    "    :return: a result dictionary containing 3 items -\n",
    "    result['prob']: output of the CNN algorithm.\n",
    "    result['h']: the hidden layer output after max pooling, h = [h1, ..., hF]\n",
    "    result['hid']: argmax of F filters, e.g. j of x_j\n",
    "    e.g. for the ith filter u_i, tanh(word[hid[i], hid[i] + width]*u_i) = max(h_i)\n",
    "    \"\"\"\n",
    "    h = np.zeros(F, dtype=float)\n",
    "    hid = np.zeros(F, dtype=int)\n",
    "    prob = 0.0\n",
    "\n",
    "    # step 1. compute h and hid\n",
    "    # loop through the input data of word indices and\n",
    "    # keep track of the max filtered value h_i and its position index x_j\n",
    "    # h_i = max(tanh(weighted sum of all words in a given window)) over all windows for u_i\n",
    "    \"\"\"\n",
    "    Type your code below\n",
    "    \"\"\"\n",
    "    start_time=time.time()\n",
    "    global U,V\n",
    "    #word_indices=np.array([word_indices]).reshape(-1)\n",
    "    \n",
    "    conv_output_matrix=np.zeros((F,1))\n",
    "    #print(len(word_indices))\n",
    "    for i in range(len(word_indices)-width+1):\n",
    "      val1= U[word_indices[i],:,0].reshape(-1,1)\n",
    "      #print(\"val1:{}\".format(val1.shape))\n",
    "      val2=U[word_indices[i+1],:,1].reshape(-1,1)\n",
    "      conv_sum=val1+val2\n",
    "      #print(\"conv_sum:{}\".format(conv_sum.shape))\n",
    "      if(i==0):\n",
    "        conv_output_matrix=conv_output_matrix + conv_sum\n",
    "      else:\n",
    "        conv_output_matrix=np.concatenate((conv_output_matrix,conv_sum), axis=1)\n",
    "    #print(\"final shape:{}\".format(conv_output_matrix.shape))\n",
    "    conv_output_matrix=np.tanh(conv_output_matrix)\n",
    "    h=np.amax(conv_output_matrix,axis=1) \n",
    "    hid=np.argmax(conv_output_matrix,axis=1)\n",
    "    prob=sigmoid(h@V)\n",
    "    #print(\"prob:{0}, h:{1}, hid:{2}\".format(prob, h, hid))\n",
    "    #print(\"Forward:{}\".format(time.time()-start_time))\n",
    "    return {\"prob\": prob, \"h\": h, \"hid\": hid}"
   ]
  },
  {
   "cell_type": "markdown",
   "metadata": {
    "colab_type": "text",
    "id": "E74JyTjkXvqK"
   },
   "source": [
    "## 2. Backward\n",
    "\n",
    "Using the gradient update equations for V (§3 in HW) and U (§3.1), implement the updates for U and V in the backward function."
   ]
  },
  {
   "cell_type": "code",
   "execution_count": 0,
   "metadata": {
    "colab": {},
    "colab_type": "code",
    "id": "XAKA25B_v8E0"
   },
   "outputs": [],
   "source": [
    "def backward(word_indices, true_label):\n",
    "    \"\"\"\n",
    "    :param word_indices: a list of word indices, i.e. idx = vocab[word]\n",
    "    :param true_label: true label (0, 1) of the movie reviews\n",
    "    :return: None\n",
    "    update weight matrix/vector U and V based on the loss function\n",
    "    \"\"\"\n",
    "    start_time=time.time()\n",
    "    global U, V\n",
    "    pred = forward(word_indices)\n",
    "    prob = pred[\"prob\"]\n",
    "    h = pred[\"h\"]\n",
    "    hid = pred[\"hid\"]\n",
    "\n",
    "    # update U and V here\n",
    "    # loss_function = y * log(o) + (1 - y) * log(1 - o)\n",
    "    #               = true_label * log(prob) + (1 - true_label) * log(1 - prob)\n",
    "    # to update V: V_new =    + d(loss_function)/d(V)*alpha\n",
    "    # to update U: U_new = U_current + d(loss_function)/d(U)*alpha\n",
    "    # Make sure you only update the appropriate argmax term for U\n",
    "    \"\"\"\n",
    "    Type your code below\n",
    "    \"\"\"\n",
    "    #one_hot_input = np.eye(vocabsize)[word_indices]\n",
    "    #print(one_hot_input.shape)\n",
    "    V_new= V + (true_label-prob)*h*alpha\n",
    "    dU=np.zeros((vocabsize,F, width))\n",
    "    for i in range(len(hid)):\n",
    "      dU[word_indices[hid[i]],i,0]= (float(true_label-prob)) * V[i]*(1-(h[i]**2)) * 1 #h[i] is the tanh(Xmax*U)\n",
    "      dU[word_indices[hid[i]+1],i,1]= (float(true_label-prob)) * V[i]*(1-(h[i]**2)) * 1 #h[i] is the tanh(Xmax*U) \n",
    "    assert dU.shape==U.shape\n",
    "    V=V_new\n",
    "    U=U + dU*alpha\n",
    "    elapsedtime=time.time()-start_time\n",
    "    #print(\"Backward time:{}\".format(elapsedtime))\n"
   ]
  },
  {
   "cell_type": "markdown",
   "metadata": {
    "colab_type": "text",
    "id": "atJ7itphH0U_"
   },
   "source": [
    "Once you have implemented both the forward and backward functions, your can test out your implementations by training the model. To do so, run the `train` function in the cell below. If your implementations are correct, you should see the accuracy improve as the model trains (You will be graded based on the correctness of the implementations, not on this accuracy)."
   ]
  },
  {
   "cell_type": "code",
   "execution_count": 16,
   "metadata": {
    "colab": {
     "base_uri": "https://localhost:8080/",
     "height": 884
    },
    "colab_type": "code",
    "id": "PPtlm0Mifn_g",
    "outputId": "3ac72adb-b082-4178-8b4c-f801d1090929"
   },
   "outputs": [
    {
     "name": "stdout",
     "output_type": "stream",
     "text": [
      "Epoch: 0 \tDev accuracy: 0.620\n",
      "Epoch: 1 \tDev accuracy: 0.602\n",
      "Epoch: 2 \tDev accuracy: 0.668\n",
      "Epoch: 3 \tDev accuracy: 0.698\n",
      "Epoch: 4 \tDev accuracy: 0.722\n",
      "Epoch: 5 \tDev accuracy: 0.804\n",
      "Epoch: 6 \tDev accuracy: 0.806\n",
      "Epoch: 7 \tDev accuracy: 0.806\n",
      "Epoch: 8 \tDev accuracy: 0.804\n",
      "Epoch: 9 \tDev accuracy: 0.806\n",
      "Epoch: 10 \tDev accuracy: 0.806\n",
      "Epoch: 11 \tDev accuracy: 0.806\n",
      "Epoch: 12 \tDev accuracy: 0.810\n",
      "Epoch: 13 \tDev accuracy: 0.808\n",
      "Epoch: 14 \tDev accuracy: 0.810\n",
      "Epoch: 15 \tDev accuracy: 0.810\n",
      "Epoch: 16 \tDev accuracy: 0.812\n",
      "Epoch: 17 \tDev accuracy: 0.812\n",
      "Epoch: 18 \tDev accuracy: 0.814\n",
      "Epoch: 19 \tDev accuracy: 0.814\n",
      "Epoch: 20 \tDev accuracy: 0.816\n",
      "Epoch: 21 \tDev accuracy: 0.816\n",
      "Epoch: 22 \tDev accuracy: 0.816\n",
      "Epoch: 23 \tDev accuracy: 0.816\n",
      "Epoch: 24 \tDev accuracy: 0.818\n",
      "Epoch: 25 \tDev accuracy: 0.818\n",
      "Epoch: 26 \tDev accuracy: 0.818\n",
      "Epoch: 27 \tDev accuracy: 0.818\n",
      "Epoch: 28 \tDev accuracy: 0.818\n",
      "Epoch: 29 \tDev accuracy: 0.818\n",
      "Epoch: 30 \tDev accuracy: 0.818\n",
      "Epoch: 31 \tDev accuracy: 0.818\n",
      "Epoch: 32 \tDev accuracy: 0.818\n",
      "Epoch: 33 \tDev accuracy: 0.818\n",
      "Epoch: 34 \tDev accuracy: 0.818\n",
      "Epoch: 35 \tDev accuracy: 0.818\n",
      "Epoch: 36 \tDev accuracy: 0.818\n",
      "Epoch: 37 \tDev accuracy: 0.820\n",
      "Epoch: 38 \tDev accuracy: 0.820\n",
      "Epoch: 39 \tDev accuracy: 0.820\n",
      "Epoch: 40 \tDev accuracy: 0.820\n",
      "Epoch: 41 \tDev accuracy: 0.820\n",
      "Epoch: 42 \tDev accuracy: 0.820\n",
      "Epoch: 43 \tDev accuracy: 0.820\n",
      "Epoch: 44 \tDev accuracy: 0.820\n",
      "Epoch: 45 \tDev accuracy: 0.820\n",
      "Epoch: 46 \tDev accuracy: 0.820\n",
      "Epoch: 47 \tDev accuracy: 0.820\n",
      "Epoch: 48 \tDev accuracy: 0.820\n",
      "Epoch: 49 \tDev accuracy: 0.820\n"
     ]
    }
   ],
   "source": [
    "train()"
   ]
  }
 ],
 "metadata": {
  "colab": {
   "collapsed_sections": [],
   "name": "Copy of HW_2.ipynb",
   "provenance": [],
   "toc_visible": true
  },
  "kernelspec": {
   "display_name": "Python 3",
   "language": "python",
   "name": "python3"
  },
  "language_info": {
   "codemirror_mode": {
    "name": "ipython",
    "version": 3
   },
   "file_extension": ".py",
   "mimetype": "text/x-python",
   "name": "python",
   "nbconvert_exporter": "python",
   "pygments_lexer": "ipython3",
   "version": "3.7.3"
  }
 },
 "nbformat": 4,
 "nbformat_minor": 1
}
